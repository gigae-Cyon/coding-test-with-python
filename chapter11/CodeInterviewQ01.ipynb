{
  "nbformat": 4,
  "nbformat_minor": 0,
  "metadata": {
    "colab": {
      "name": "CodeInterviewQ01.ipynb",
      "provenance": [],
      "collapsed_sections": []
    },
    "kernelspec": {
      "name": "python3",
      "display_name": "Python 3"
    },
    "language_info": {
      "name": "python"
    }
  },
  "cells": [
    {
      "cell_type": "code",
      "execution_count": null,
      "metadata": {
        "colab": {
          "base_uri": "https://localhost:8080/"
        },
        "id": "41H_wuea5Olu",
        "outputId": "a1392f8c-1480-4479-b006-928d73a19124"
      },
      "outputs": [
        {
          "name": "stdout",
          "output_type": "stream",
          "text": [
            "12\n"
          ]
        }
      ],
      "source": [
        "n = int(input())"
      ]
    },
    {
      "cell_type": "code",
      "source": [
        "fear = list(map(int, input().split()))\n",
        "fear.sort()"
      ],
      "metadata": {
        "colab": {
          "base_uri": "https://localhost:8080/"
        },
        "id": "osfbE7bN5RMN",
        "outputId": "59cf6374-8b7a-49fa-ca8e-3fd1b7c2cd16"
      },
      "execution_count": null,
      "outputs": [
        {
          "name": "stdout",
          "output_type": "stream",
          "text": [
            "4 5 5 7 6 7 6 7 7 1 3 1\n"
          ]
        }
      ]
    },
    {
      "cell_type": "code",
      "source": [
        "s, e = 0, 0\n",
        "groups = 0"
      ],
      "metadata": {
        "id": "zNxma6rK5UW7"
      },
      "execution_count": null,
      "outputs": []
    },
    {
      "cell_type": "code",
      "source": [
        "while (s < n-1):\n",
        "  e = s + fear[s] - 1\n",
        "  if (e > n): break\n",
        "  if (e - s + 1 == fear[e]):\n",
        "    groups += 1\n",
        "    s = e + 1\n",
        "  else:\n",
        "    while (e - s + 1 != fear[e]):\n",
        "      e = s + fear[e] - 1\n",
        "      if (e > n-1): break\n",
        "    if (e > n-1): break\n",
        "    groups += 1\n",
        "    s = e + 1"
      ],
      "metadata": {
        "id": "ia9m4XSv5ggb"
      },
      "execution_count": null,
      "outputs": []
    },
    {
      "cell_type": "code",
      "source": [
        "print(groups)"
      ],
      "metadata": {
        "colab": {
          "base_uri": "https://localhost:8080/"
        },
        "id": "MmS0jJ9k51v0",
        "outputId": "947d2b30-899b-4814-bcb5-c00e9af6b7bd"
      },
      "execution_count": null,
      "outputs": [
        {
          "output_type": "stream",
          "name": "stdout",
          "text": [
            "3\n"
          ]
        }
      ]
    },
    {
      "cell_type": "markdown",
      "source": [
        "1st : 47min"
      ],
      "metadata": {
        "id": "ltqgCRmzDPGh"
      }
    },
    {
      "cell_type": "markdown",
      "source": [
        "Solution"
      ],
      "metadata": {
        "id": "BDF93VFXExl6"
      }
    },
    {
      "cell_type": "code",
      "source": [
        "n = int(input())\n",
        "data = list(map(int, input()))\n",
        "data.sort()\n",
        "\n",
        "result = 0 # number of groups\n",
        "count = 0 # number of adventurer in current group\n",
        "\n",
        "for i in data:\n",
        "  count += 1\n",
        "  if count >= i:\n",
        "    result += 1\n",
        "    count = 0\n",
        "\n",
        "print(result)"
      ],
      "metadata": {
        "id": "3MQGhkE5DHnQ"
      },
      "execution_count": null,
      "outputs": []
    }
  ]
}